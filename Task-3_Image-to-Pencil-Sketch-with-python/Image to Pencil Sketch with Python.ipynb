{
 "cells": [
  {
   "cell_type": "markdown",
   "id": "04fe3bce",
   "metadata": {},
   "source": [
    "# Author - Ishita Jain"
   ]
  },
  {
   "cell_type": "markdown",
   "id": "b138c7cc",
   "metadata": {},
   "source": [
    "# Data Science Intern at Lets Grow More LGMVIP March 23"
   ]
  },
  {
   "cell_type": "markdown",
   "id": "dc2c0a04",
   "metadata": {},
   "source": [
    "# Beginner Level Task"
   ]
  },
  {
   "cell_type": "markdown",
   "id": "b39d8cb8",
   "metadata": {},
   "source": [
    "# Task3:- Image to Pencil Sketch with Python"
   ]
  },
  {
   "cell_type": "raw",
   "id": "f29968ca",
   "metadata": {},
   "source": [
    "Steps to be performed\n",
    "1.Import all necessary libraries\n",
    "2.Read the img\n",
    "3.Convert it into gray scale\n",
    "4.Invert the gray scale img\n",
    "5.Blurred the inverted img\n",
    "6.And again invert the blurred img we get a pencil sketch."
   ]
  },
  {
   "cell_type": "markdown",
   "id": "74257ebc",
   "metadata": {},
   "source": [
    "# Importing Libraries"
   ]
  },
  {
   "cell_type": "code",
   "execution_count": 3,
   "id": "c6e2752e",
   "metadata": {},
   "outputs": [],
   "source": [
    "import numpy as np\n",
    "import cv2"
   ]
  },
  {
   "cell_type": "markdown",
   "id": "b4eee4a5",
   "metadata": {},
   "source": [
    "# Read and display the original image"
   ]
  },
  {
   "cell_type": "code",
   "execution_count": 4,
   "id": "11273698",
   "metadata": {},
   "outputs": [],
   "source": [
    "img = cv2.imread('/home/ishita/Documents/datasets/car.jpg')\n",
    "try:\n",
    "    cv2.imshow('Car', img)\n",
    "    cv2.waitKey(0)\n",
    "\n",
    "except:\n",
    "    print(\"Here\")"
   ]
  },
  {
   "cell_type": "markdown",
   "id": "b9d55654",
   "metadata": {},
   "source": [
    "# Converting image into gray_image"
   ]
  },
  {
   "cell_type": "code",
   "execution_count": 5,
   "id": "c094cd3e",
   "metadata": {},
   "outputs": [
    {
     "data": {
      "text/plain": [
       "-1"
      ]
     },
     "execution_count": 5,
     "metadata": {},
     "output_type": "execute_result"
    }
   ],
   "source": [
    "gray_img= cv2.cvtColor(img, cv2.COLOR_BGR2GRAY)\n",
    "cv2.imshow(\"Gray Car\", gray_img)\n",
    "cv2.waitKey(0)"
   ]
  },
  {
   "cell_type": "markdown",
   "id": "59a53224",
   "metadata": {},
   "source": [
    "# Invert the gray image"
   ]
  },
  {
   "cell_type": "code",
   "execution_count": 6,
   "id": "58a8af41",
   "metadata": {},
   "outputs": [
    {
     "data": {
      "text/plain": [
       "-1"
      ]
     },
     "execution_count": 6,
     "metadata": {},
     "output_type": "execute_result"
    }
   ],
   "source": [
    "inverted_img = 255 - gray_img\n",
    "cv2.imshow(\"Inverted img\", inverted_img)\n",
    "cv2.waitKey()"
   ]
  },
  {
   "cell_type": "markdown",
   "id": "6e66e118",
   "metadata": {},
   "source": [
    "# Blur image "
   ]
  },
  {
   "cell_type": "code",
   "execution_count": 7,
   "id": "6a06781e",
   "metadata": {},
   "outputs": [
    {
     "data": {
      "text/plain": [
       "-1"
      ]
     },
     "execution_count": 7,
     "metadata": {},
     "output_type": "execute_result"
    }
   ],
   "source": [
    "blurred_img = cv2.GaussianBlur(inverted_img, (21, 21), 0)\n",
    "cv2.imshow(\"Blurred img\", blurred_img)\n",
    "cv2.waitKey()"
   ]
  },
  {
   "cell_type": "markdown",
   "id": "187adf9f",
   "metadata": {},
   "source": [
    "# Invert the blur image"
   ]
  },
  {
   "cell_type": "code",
   "execution_count": 8,
   "id": "aa171ae2",
   "metadata": {},
   "outputs": [
    {
     "data": {
      "text/plain": [
       "-1"
      ]
     },
     "execution_count": 8,
     "metadata": {},
     "output_type": "execute_result"
    }
   ],
   "source": [
    "#By inverting the blurred image we get a pencil sketch\n",
    "inverted_blurred_img = 255 - blurred_img\n",
    "pencil_sketch = cv2.divide(gray_img,inverted_blurred_img, scale=256.0)\n",
    "cv2.imshow(\"Sketch\", pencil_sketch)\n",
    "cv2.waitKey(0)"
   ]
  },
  {
   "cell_type": "markdown",
   "id": "56a4eea0",
   "metadata": {},
   "source": [
    "# Display original image and pencil sketch"
   ]
  },
  {
   "cell_type": "code",
   "execution_count": 11,
   "id": "6d0d8ca7",
   "metadata": {},
   "outputs": [
    {
     "data": {
      "text/plain": [
       "-1"
      ]
     },
     "execution_count": 11,
     "metadata": {},
     "output_type": "execute_result"
    }
   ],
   "source": [
    "cv2.imshow(\"original image\", img)\n",
    "cv2.imshow(\"pencil sketch\", pencil_sketch)\n",
    "cv2.waitKey(0)"
   ]
  },
  {
   "cell_type": "code",
   "execution_count": null,
   "id": "0011d7ee",
   "metadata": {},
   "outputs": [],
   "source": []
  }
 ],
 "metadata": {
  "kernelspec": {
   "display_name": "Python 3 (ipykernel)",
   "language": "python",
   "name": "python3"
  },
  "language_info": {
   "codemirror_mode": {
    "name": "ipython",
    "version": 3
   },
   "file_extension": ".py",
   "mimetype": "text/x-python",
   "name": "python",
   "nbconvert_exporter": "python",
   "pygments_lexer": "ipython3",
   "version": "3.8.10"
  }
 },
 "nbformat": 4,
 "nbformat_minor": 5
}
