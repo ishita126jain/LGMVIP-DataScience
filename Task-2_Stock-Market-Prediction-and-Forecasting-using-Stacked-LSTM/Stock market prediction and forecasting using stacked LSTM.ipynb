{
 "cells": [
  {
   "cell_type": "markdown",
   "id": "8283e8b9",
   "metadata": {},
   "source": [
    "# Author - Ishita Jain¶"
   ]
  },
  {
   "cell_type": "markdown",
   "id": "241e9ae1",
   "metadata": {},
   "source": [
    "# Data Science Intern at Lets Grow More LGMVIP March 23\n"
   ]
  },
  {
   "cell_type": "markdown",
   "id": "de7289cb",
   "metadata": {},
   "source": [
    "# Beginner Level Task"
   ]
  },
  {
   "cell_type": "markdown",
   "id": "10d5f84a",
   "metadata": {},
   "source": [
    "# Task 2- Stock market prediction and forecasting using stacked LSTM"
   ]
  },
  {
   "cell_type": "markdown",
   "id": "ac9fed04",
   "metadata": {},
   "source": [
    "# Step1:- Importing Libraries"
   ]
  },
  {
   "cell_type": "code",
   "execution_count": 1,
   "id": "ce662bc3",
   "metadata": {},
   "outputs": [],
   "source": [
    "import numpy as np\n",
    "import pandas as pd\n",
    "import matplotlib.pyplot as plt\n",
    "import seaborn as sns\n",
    "from sklearn.preprocessing import MinMaxScaler"
   ]
  },
  {
   "cell_type": "markdown",
   "id": "b4fb4672",
   "metadata": {},
   "source": [
    "# Step2:- Loading Dataset"
   ]
  },
  {
   "cell_type": "code",
   "execution_count": 2,
   "id": "28b27699",
   "metadata": {},
   "outputs": [
    {
     "data": {
      "text/html": [
       "<div>\n",
       "<style scoped>\n",
       "    .dataframe tbody tr th:only-of-type {\n",
       "        vertical-align: middle;\n",
       "    }\n",
       "\n",
       "    .dataframe tbody tr th {\n",
       "        vertical-align: top;\n",
       "    }\n",
       "\n",
       "    .dataframe thead th {\n",
       "        text-align: right;\n",
       "    }\n",
       "</style>\n",
       "<table border=\"1\" class=\"dataframe\">\n",
       "  <thead>\n",
       "    <tr style=\"text-align: right;\">\n",
       "      <th></th>\n",
       "      <th>Date</th>\n",
       "      <th>Open</th>\n",
       "      <th>High</th>\n",
       "      <th>Low</th>\n",
       "      <th>Last</th>\n",
       "      <th>Close</th>\n",
       "      <th>Total Trade Quantity</th>\n",
       "      <th>Turnover (Lacs)</th>\n",
       "    </tr>\n",
       "  </thead>\n",
       "  <tbody>\n",
       "    <tr>\n",
       "      <th>0</th>\n",
       "      <td>2018-09-28</td>\n",
       "      <td>234.05</td>\n",
       "      <td>235.95</td>\n",
       "      <td>230.20</td>\n",
       "      <td>233.50</td>\n",
       "      <td>233.75</td>\n",
       "      <td>3069914</td>\n",
       "      <td>7162.35</td>\n",
       "    </tr>\n",
       "    <tr>\n",
       "      <th>1</th>\n",
       "      <td>2018-09-27</td>\n",
       "      <td>234.55</td>\n",
       "      <td>236.80</td>\n",
       "      <td>231.10</td>\n",
       "      <td>233.80</td>\n",
       "      <td>233.25</td>\n",
       "      <td>5082859</td>\n",
       "      <td>11859.95</td>\n",
       "    </tr>\n",
       "    <tr>\n",
       "      <th>2</th>\n",
       "      <td>2018-09-26</td>\n",
       "      <td>240.00</td>\n",
       "      <td>240.00</td>\n",
       "      <td>232.50</td>\n",
       "      <td>235.00</td>\n",
       "      <td>234.25</td>\n",
       "      <td>2240909</td>\n",
       "      <td>5248.60</td>\n",
       "    </tr>\n",
       "    <tr>\n",
       "      <th>3</th>\n",
       "      <td>2018-09-25</td>\n",
       "      <td>233.30</td>\n",
       "      <td>236.75</td>\n",
       "      <td>232.00</td>\n",
       "      <td>236.25</td>\n",
       "      <td>236.10</td>\n",
       "      <td>2349368</td>\n",
       "      <td>5503.90</td>\n",
       "    </tr>\n",
       "    <tr>\n",
       "      <th>4</th>\n",
       "      <td>2018-09-24</td>\n",
       "      <td>233.55</td>\n",
       "      <td>239.20</td>\n",
       "      <td>230.75</td>\n",
       "      <td>234.00</td>\n",
       "      <td>233.30</td>\n",
       "      <td>3423509</td>\n",
       "      <td>7999.55</td>\n",
       "    </tr>\n",
       "  </tbody>\n",
       "</table>\n",
       "</div>"
      ],
      "text/plain": [
       "         Date    Open    High     Low    Last   Close  Total Trade Quantity  \\\n",
       "0  2018-09-28  234.05  235.95  230.20  233.50  233.75               3069914   \n",
       "1  2018-09-27  234.55  236.80  231.10  233.80  233.25               5082859   \n",
       "2  2018-09-26  240.00  240.00  232.50  235.00  234.25               2240909   \n",
       "3  2018-09-25  233.30  236.75  232.00  236.25  236.10               2349368   \n",
       "4  2018-09-24  233.55  239.20  230.75  234.00  233.30               3423509   \n",
       "\n",
       "   Turnover (Lacs)  \n",
       "0          7162.35  \n",
       "1         11859.95  \n",
       "2          5248.60  \n",
       "3          5503.90  \n",
       "4          7999.55  "
      ]
     },
     "execution_count": 2,
     "metadata": {},
     "output_type": "execute_result"
    }
   ],
   "source": [
    "data = \"https://raw.githubusercontent.com/mwitiderrick/stockprice/master/NSE-TATAGLOBAL.csv\"\n",
    "df = pd.read_csv(data)\n",
    "df.head()"
   ]
  },
  {
   "cell_type": "code",
   "execution_count": 3,
   "id": "8cd32f99",
   "metadata": {},
   "outputs": [
    {
     "data": {
      "text/html": [
       "<div>\n",
       "<style scoped>\n",
       "    .dataframe tbody tr th:only-of-type {\n",
       "        vertical-align: middle;\n",
       "    }\n",
       "\n",
       "    .dataframe tbody tr th {\n",
       "        vertical-align: top;\n",
       "    }\n",
       "\n",
       "    .dataframe thead th {\n",
       "        text-align: right;\n",
       "    }\n",
       "</style>\n",
       "<table border=\"1\" class=\"dataframe\">\n",
       "  <thead>\n",
       "    <tr style=\"text-align: right;\">\n",
       "      <th></th>\n",
       "      <th>Open</th>\n",
       "      <th>High</th>\n",
       "      <th>Low</th>\n",
       "      <th>Last</th>\n",
       "      <th>Close</th>\n",
       "      <th>Total Trade Quantity</th>\n",
       "      <th>Turnover (Lacs)</th>\n",
       "    </tr>\n",
       "  </thead>\n",
       "  <tbody>\n",
       "    <tr>\n",
       "      <th>count</th>\n",
       "      <td>2035.000000</td>\n",
       "      <td>2035.000000</td>\n",
       "      <td>2035.000000</td>\n",
       "      <td>2035.000000</td>\n",
       "      <td>2035.00000</td>\n",
       "      <td>2.035000e+03</td>\n",
       "      <td>2035.000000</td>\n",
       "    </tr>\n",
       "    <tr>\n",
       "      <th>mean</th>\n",
       "      <td>149.713735</td>\n",
       "      <td>151.992826</td>\n",
       "      <td>147.293931</td>\n",
       "      <td>149.474251</td>\n",
       "      <td>149.45027</td>\n",
       "      <td>2.335681e+06</td>\n",
       "      <td>3899.980565</td>\n",
       "    </tr>\n",
       "    <tr>\n",
       "      <th>std</th>\n",
       "      <td>48.664509</td>\n",
       "      <td>49.413109</td>\n",
       "      <td>47.931958</td>\n",
       "      <td>48.732570</td>\n",
       "      <td>48.71204</td>\n",
       "      <td>2.091778e+06</td>\n",
       "      <td>4570.767877</td>\n",
       "    </tr>\n",
       "    <tr>\n",
       "      <th>min</th>\n",
       "      <td>81.100000</td>\n",
       "      <td>82.800000</td>\n",
       "      <td>80.000000</td>\n",
       "      <td>81.000000</td>\n",
       "      <td>80.95000</td>\n",
       "      <td>3.961000e+04</td>\n",
       "      <td>37.040000</td>\n",
       "    </tr>\n",
       "    <tr>\n",
       "      <th>25%</th>\n",
       "      <td>120.025000</td>\n",
       "      <td>122.100000</td>\n",
       "      <td>118.300000</td>\n",
       "      <td>120.075000</td>\n",
       "      <td>120.05000</td>\n",
       "      <td>1.146444e+06</td>\n",
       "      <td>1427.460000</td>\n",
       "    </tr>\n",
       "    <tr>\n",
       "      <th>50%</th>\n",
       "      <td>141.500000</td>\n",
       "      <td>143.400000</td>\n",
       "      <td>139.600000</td>\n",
       "      <td>141.100000</td>\n",
       "      <td>141.25000</td>\n",
       "      <td>1.783456e+06</td>\n",
       "      <td>2512.030000</td>\n",
       "    </tr>\n",
       "    <tr>\n",
       "      <th>75%</th>\n",
       "      <td>157.175000</td>\n",
       "      <td>159.400000</td>\n",
       "      <td>155.150000</td>\n",
       "      <td>156.925000</td>\n",
       "      <td>156.90000</td>\n",
       "      <td>2.813594e+06</td>\n",
       "      <td>4539.015000</td>\n",
       "    </tr>\n",
       "    <tr>\n",
       "      <th>max</th>\n",
       "      <td>327.700000</td>\n",
       "      <td>328.750000</td>\n",
       "      <td>321.650000</td>\n",
       "      <td>325.950000</td>\n",
       "      <td>325.75000</td>\n",
       "      <td>2.919102e+07</td>\n",
       "      <td>55755.080000</td>\n",
       "    </tr>\n",
       "  </tbody>\n",
       "</table>\n",
       "</div>"
      ],
      "text/plain": [
       "              Open         High          Low         Last       Close  \\\n",
       "count  2035.000000  2035.000000  2035.000000  2035.000000  2035.00000   \n",
       "mean    149.713735   151.992826   147.293931   149.474251   149.45027   \n",
       "std      48.664509    49.413109    47.931958    48.732570    48.71204   \n",
       "min      81.100000    82.800000    80.000000    81.000000    80.95000   \n",
       "25%     120.025000   122.100000   118.300000   120.075000   120.05000   \n",
       "50%     141.500000   143.400000   139.600000   141.100000   141.25000   \n",
       "75%     157.175000   159.400000   155.150000   156.925000   156.90000   \n",
       "max     327.700000   328.750000   321.650000   325.950000   325.75000   \n",
       "\n",
       "       Total Trade Quantity  Turnover (Lacs)  \n",
       "count          2.035000e+03      2035.000000  \n",
       "mean           2.335681e+06      3899.980565  \n",
       "std            2.091778e+06      4570.767877  \n",
       "min            3.961000e+04        37.040000  \n",
       "25%            1.146444e+06      1427.460000  \n",
       "50%            1.783456e+06      2512.030000  \n",
       "75%            2.813594e+06      4539.015000  \n",
       "max            2.919102e+07     55755.080000  "
      ]
     },
     "execution_count": 3,
     "metadata": {},
     "output_type": "execute_result"
    }
   ],
   "source": [
    "df.describe()"
   ]
  },
  {
   "cell_type": "code",
   "execution_count": 4,
   "id": "fefc04c6",
   "metadata": {},
   "outputs": [
    {
     "data": {
      "text/plain": [
       "(2035, 8)"
      ]
     },
     "execution_count": 4,
     "metadata": {},
     "output_type": "execute_result"
    }
   ],
   "source": [
    "df.shape"
   ]
  },
  {
   "cell_type": "code",
   "execution_count": 5,
   "id": "e00f9653",
   "metadata": {},
   "outputs": [
    {
     "data": {
      "text/plain": [
       "Date                     object\n",
       "Open                    float64\n",
       "High                    float64\n",
       "Low                     float64\n",
       "Last                    float64\n",
       "Close                   float64\n",
       "Total Trade Quantity      int64\n",
       "Turnover (Lacs)         float64\n",
       "dtype: object"
      ]
     },
     "execution_count": 5,
     "metadata": {},
     "output_type": "execute_result"
    }
   ],
   "source": [
    "df.dtypes"
   ]
  },
  {
   "cell_type": "code",
   "execution_count": 6,
   "id": "cd6f6d43",
   "metadata": {},
   "outputs": [
    {
     "data": {
      "text/plain": [
       "Date                    0\n",
       "Open                    0\n",
       "High                    0\n",
       "Low                     0\n",
       "Last                    0\n",
       "Close                   0\n",
       "Total Trade Quantity    0\n",
       "Turnover (Lacs)         0\n",
       "dtype: int64"
      ]
     },
     "execution_count": 6,
     "metadata": {},
     "output_type": "execute_result"
    }
   ],
   "source": [
    "#Checking the null value in dataset\n",
    "df.isnull().sum()"
   ]
  },
  {
   "cell_type": "markdown",
   "id": "b966d162",
   "metadata": {},
   "source": [
    "# Step3:- Visualizing the data"
   ]
  },
  {
   "cell_type": "code",
   "execution_count": 7,
   "id": "ef88ab3a",
   "metadata": {},
   "outputs": [
    {
     "data": {
      "image/png": "[encoded data removed]",
      "text/plain": [
       "<Figure size 432x288 with 1 Axes>"
      ]
     },
     "metadata": {
      "needs_background": "light"
     },
     "output_type": "display_data"
    }
   ],
   "source": [
    "#plot the Close value graph \n",
    "plt.plot(df['Close'])\n",
    "plt.show()"
   ]
  },
  {
   "cell_type": "markdown",
   "id": "57670608",
   "metadata": {},
   "source": [
    "# Step4:- MinMax Scaler"
   ]
  },
  {
   "cell_type": "code",
   "execution_count": 8,
   "id": "5df4e26a",
   "metadata": {},
   "outputs": [],
   "source": [
    "df1 = df.reset_index()['Close']"
   ]
  },
  {
   "cell_type": "code",
   "execution_count": 9,
   "id": "3ab93ee0",
   "metadata": {},
   "outputs": [
    {
     "data": {
      "text/plain": [
       "0    233.75\n",
       "1    233.25\n",
       "2    234.25\n",
       "3    236.10\n",
       "4    233.30\n",
       "Name: Close, dtype: float64"
      ]
     },
     "execution_count": 9,
     "metadata": {},
     "output_type": "execute_result"
    }
   ],
   "source": [
    "df1.head()"
   ]
  },
  {
   "cell_type": "code",
   "execution_count": 10,
   "id": "d2466ede",
   "metadata": {},
   "outputs": [],
   "source": [
    "scaler = MinMaxScaler(feature_range = (0,1))\n",
    "df1 = scaler.fit_transform(np.array(df1).reshape(-1,1))"
   ]
  },
  {
   "cell_type": "code",
   "execution_count": 11,
   "id": "fc8c4504",
   "metadata": {},
   "outputs": [
    {
     "data": {
      "text/plain": [
       "array([[0.62418301],\n",
       "       [0.62214052],\n",
       "       [0.62622549],\n",
       "       ...,\n",
       "       [0.1621732 ],\n",
       "       [0.16319444],\n",
       "       [0.16584967]])"
      ]
     },
     "execution_count": 11,
     "metadata": {},
     "output_type": "execute_result"
    }
   ],
   "source": [
    "df1"
   ]
  },
  {
   "cell_type": "markdown",
   "id": "acaeca3d",
   "metadata": {},
   "source": [
    "# Step5:- Train Test Split"
   ]
  },
  {
   "cell_type": "code",
   "execution_count": 12,
   "id": "72a61443",
   "metadata": {},
   "outputs": [],
   "source": [
    "train_size = int(len(df1) * 0.7)\n",
    "test_size = len(df1) - train_size\n",
    "train_data, test_data = df1[0:train_size,:], df1[train_size:len(df1),:1]"
   ]
  },
  {
   "cell_type": "code",
   "execution_count": 13,
   "id": "da0f55ab",
   "metadata": {},
   "outputs": [
    {
     "data": {
      "text/plain": [
       "(1424, 1)"
      ]
     },
     "execution_count": 13,
     "metadata": {},
     "output_type": "execute_result"
    }
   ],
   "source": [
    "train_data.shape"
   ]
  },
  {
   "cell_type": "code",
   "execution_count": 14,
   "id": "46c0658a",
   "metadata": {},
   "outputs": [
    {
     "data": {
      "text/plain": [
       "(611, 1)"
      ]
     },
     "execution_count": 14,
     "metadata": {},
     "output_type": "execute_result"
    }
   ],
   "source": [
    "test_data.shape"
   ]
  },
  {
   "cell_type": "code",
   "execution_count": 15,
   "id": "0d915a44",
   "metadata": {},
   "outputs": [],
   "source": [
    "def dataset(df, step = 1):\n",
    "    Xdata, ydata = [], []\n",
    "    for i in range(len(df) - step - 1):\n",
    "        a = df[i:(i+step), 0]\n",
    "        Xdata.append(a)\n",
    "        ydata.append(df[i+step,0])\n",
    "    return np.array(Xdata), np.array(ydata)"
   ]
  },
  {
   "cell_type": "code",
   "execution_count": 16,
   "id": "d98e77d4",
   "metadata": {},
   "outputs": [],
   "source": [
    "step = 100\n",
    "X_train, y_train = dataset(train_data, step)\n",
    "X_test, y_test = dataset(test_data, step)"
   ]
  },
  {
   "cell_type": "code",
   "execution_count": 17,
   "id": "7b0ddd7e",
   "metadata": {},
   "outputs": [],
   "source": [
    "X_train = X_train.reshape(X_train.shape[0], X_train.shape[1], 1)\n",
    "X_test = X_test.reshape(X_test.shape[0], X_test.shape[1], 1)"
   ]
  },
  {
   "cell_type": "code",
   "execution_count": 18,
   "id": "fbd75b01",
   "metadata": {},
   "outputs": [
    {
     "data": {
      "text/plain": [
       "(1323, 100, 1)"
      ]
     },
     "execution_count": 18,
     "metadata": {},
     "output_type": "execute_result"
    }
   ],
   "source": [
    "X_train.shape"
   ]
  },
  {
   "cell_type": "code",
   "execution_count": 19,
   "id": "24b0a465",
   "metadata": {},
   "outputs": [
    {
     "data": {
      "text/plain": [
       "(510, 100, 1)"
      ]
     },
     "execution_count": 19,
     "metadata": {},
     "output_type": "execute_result"
    }
   ],
   "source": [
    "X_test.shape"
   ]
  },
  {
   "cell_type": "code",
   "execution_count": 20,
   "id": "e244839c",
   "metadata": {},
   "outputs": [
    {
     "data": {
      "text/plain": [
       "(1323,)"
      ]
     },
     "execution_count": 20,
     "metadata": {},
     "output_type": "execute_result"
    }
   ],
   "source": [
    "y_train.shape"
   ]
  },
  {
   "cell_type": "code",
   "execution_count": 21,
   "id": "77466c5a",
   "metadata": {},
   "outputs": [
    {
     "data": {
      "text/plain": [
       "(510,)"
      ]
     },
     "execution_count": 21,
     "metadata": {},
     "output_type": "execute_result"
    }
   ],
   "source": [
    "y_test.shape"
   ]
  },
  {
   "cell_type": "markdown",
   "id": "18701250",
   "metadata": {},
   "source": [
    "# Step6:- Creating a stacked LSTM Model"
   ]
  },
  {
   "cell_type": "code",
   "execution_count": 23,
   "id": "c714e8fe",
   "metadata": {},
   "outputs": [],
   "source": [
    "from tensorflow.keras.models import Sequential\n",
    "from tensorflow.keras.layers import Dense\n",
    "from tensorflow.keras.layers import LSTM"
   ]
  },
  {
   "cell_type": "code",
   "execution_count": 25,
   "id": "57209de5",
   "metadata": {},
   "outputs": [],
   "source": [
    "model=Sequential()\n",
    "model.add(LSTM(50,return_sequences=True,input_shape=(100,1)))\n",
    "model.add(LSTM(50,return_sequences=True))\n",
    "model.add(LSTM(50))\n",
    "model.add(Dense(1))"
   ]
  },
  {
   "cell_type": "code",
   "execution_count": 26,
   "id": "57304291",
   "metadata": {
    "scrolled": true
   },
   "outputs": [
    {
     "name": "stdout",
     "output_type": "stream",
     "text": [
      "Model: \"sequential_1\"\n",
      "_________________________________________________________________\n",
      " Layer (type)                Output Shape              Param #   \n",
      "=================================================================\n",
      " lstm_3 (LSTM)               (None, 100, 50)           10400     \n",
      "                                                                 \n",
      " lstm_4 (LSTM)               (None, 100, 50)           20200     \n",
      "                                                                 \n",
      " lstm_5 (LSTM)               (None, 50)                20200     \n",
      "                                                                 \n",
      " dense_1 (Dense)             (None, 1)                 51        \n",
      "                                                                 \n",
      "=================================================================\n",
      "Total params: 50,851\n",
      "Trainable params: 50,851\n",
      "Non-trainable params: 0\n",
      "_________________________________________________________________\n"
     ]
    }
   ],
   "source": [
    "model.summary()"
   ]
  },
  {
   "cell_type": "markdown",
   "id": "bf74bf24",
   "metadata": {},
   "source": [
    "# Step7:- Compile and training"
   ]
  },
  {
   "cell_type": "code",
   "execution_count": 27,
   "id": "03555292",
   "metadata": {},
   "outputs": [],
   "source": [
    "model.compile(loss='mean_squared_error',optimizer='adam')"
   ]
  },
  {
   "cell_type": "code",
   "execution_count": 28,
   "id": "92a1c5cd",
   "metadata": {},
   "outputs": [
    {
     "name": "stdout",
     "output_type": "stream",
     "text": [
      "Epoch 1/100\n",
      "38/38 [==============================] - 11s 134ms/step - loss: 0.0130 - val_loss: 0.0013\n",
      "Epoch 2/100\n",
      "38/38 [==============================] - 4s 111ms/step - loss: 0.0018 - val_loss: 0.0016\n",
      "Epoch 3/100\n",
      "38/38 [==============================] - 4s 107ms/step - loss: 0.0017 - val_loss: 0.0010\n",
      "Epoch 4/100\n",
      "38/38 [==============================] - 4s 106ms/step - loss: 0.0017 - val_loss: 0.0012\n",
      "Epoch 5/100\n",
      "38/38 [==============================] - 4s 117ms/step - loss: 0.0015 - val_loss: 8.9261e-04\n",
      "Epoch 6/100\n",
      "38/38 [==============================] - 4s 104ms/step - loss: 0.0012 - val_loss: 0.0010\n",
      "Epoch 7/100\n",
      "38/38 [==============================] - 4s 106ms/step - loss: 0.0013 - val_loss: 7.4420e-04\n",
      "Epoch 8/100\n",
      "38/38 [==============================] - 4s 113ms/step - loss: 0.0013 - val_loss: 7.0246e-04\n",
      "Epoch 9/100\n",
      "38/38 [==============================] - 4s 107ms/step - loss: 0.0010 - val_loss: 6.7858e-04\n",
      "Epoch 10/100\n",
      "38/38 [==============================] - 4s 113ms/step - loss: 9.8000e-04 - val_loss: 6.9353e-04\n",
      "Epoch 11/100\n",
      "38/38 [==============================] - 4s 109ms/step - loss: 8.4386e-04 - val_loss: 5.8949e-04\n",
      "Epoch 12/100\n",
      "38/38 [==============================] - 5s 119ms/step - loss: 8.5425e-04 - val_loss: 5.8527e-04\n",
      "Epoch 13/100\n",
      "38/38 [==============================] - 5s 124ms/step - loss: 7.5371e-04 - val_loss: 5.6606e-04\n",
      "Epoch 14/100\n",
      "38/38 [==============================] - 4s 109ms/step - loss: 7.2702e-04 - val_loss: 5.0121e-04\n",
      "Epoch 15/100\n",
      "38/38 [==============================] - 4s 109ms/step - loss: 7.2358e-04 - val_loss: 5.1869e-04\n",
      "Epoch 16/100\n",
      "38/38 [==============================] - 5s 137ms/step - loss: 7.5517e-04 - val_loss: 4.9668e-04\n",
      "Epoch 17/100\n",
      "38/38 [==============================] - 5s 136ms/step - loss: 7.8024e-04 - val_loss: 4.6046e-04\n",
      "Epoch 18/100\n",
      "38/38 [==============================] - 5s 131ms/step - loss: 6.7932e-04 - val_loss: 4.8265e-04\n",
      "Epoch 19/100\n",
      "38/38 [==============================] - 5s 123ms/step - loss: 6.5221e-04 - val_loss: 6.7286e-04\n",
      "Epoch 20/100\n",
      "38/38 [==============================] - 4s 111ms/step - loss: 8.9136e-04 - val_loss: 5.0395e-04\n",
      "Epoch 21/100\n",
      "38/38 [==============================] - 4s 116ms/step - loss: 5.7642e-04 - val_loss: 4.9935e-04\n",
      "Epoch 22/100\n",
      "38/38 [==============================] - 5s 127ms/step - loss: 5.5319e-04 - val_loss: 3.9014e-04\n",
      "Epoch 23/100\n",
      "38/38 [==============================] - 4s 118ms/step - loss: 5.3641e-04 - val_loss: 3.8051e-04\n",
      "Epoch 24/100\n",
      "38/38 [==============================] - 4s 113ms/step - loss: 5.5933e-04 - val_loss: 4.1031e-04\n",
      "Epoch 25/100\n",
      "38/38 [==============================] - 4s 117ms/step - loss: 5.0300e-04 - val_loss: 3.4649e-04\n",
      "Epoch 26/100\n",
      "38/38 [==============================] - 4s 116ms/step - loss: 5.0617e-04 - val_loss: 3.4927e-04\n",
      "Epoch 27/100\n",
      "38/38 [==============================] - 4s 113ms/step - loss: 5.4337e-04 - val_loss: 3.3771e-04\n",
      "Epoch 28/100\n",
      "38/38 [==============================] - 4s 108ms/step - loss: 4.9966e-04 - val_loss: 3.2784e-04\n",
      "Epoch 29/100\n",
      "38/38 [==============================] - 5s 121ms/step - loss: 4.7220e-04 - val_loss: 3.1308e-04\n",
      "Epoch 30/100\n",
      "38/38 [==============================] - 4s 117ms/step - loss: 7.4792e-04 - val_loss: 5.4317e-04\n",
      "Epoch 31/100\n",
      "38/38 [==============================] - 4s 115ms/step - loss: 7.1408e-04 - val_loss: 3.1265e-04\n",
      "Epoch 32/100\n",
      "38/38 [==============================] - 4s 114ms/step - loss: 4.4396e-04 - val_loss: 3.0315e-04\n",
      "Epoch 33/100\n",
      "38/38 [==============================] - 5s 118ms/step - loss: 4.3037e-04 - val_loss: 3.7730e-04\n",
      "Epoch 34/100\n",
      "38/38 [==============================] - 5s 120ms/step - loss: 3.8916e-04 - val_loss: 2.9119e-04\n",
      "Epoch 35/100\n",
      "38/38 [==============================] - 4s 117ms/step - loss: 3.8411e-04 - val_loss: 3.3635e-04\n",
      "Epoch 36/100\n",
      "38/38 [==============================] - 5s 123ms/step - loss: 5.5336e-04 - val_loss: 2.8201e-04\n",
      "Epoch 37/100\n",
      "38/38 [==============================] - 5s 123ms/step - loss: 3.5765e-04 - val_loss: 2.5531e-04\n",
      "Epoch 38/100\n",
      "38/38 [==============================] - 5s 122ms/step - loss: 3.3986e-04 - val_loss: 2.7166e-04\n",
      "Epoch 39/100\n",
      "38/38 [==============================] - 4s 116ms/step - loss: 3.8459e-04 - val_loss: 2.6896e-04\n",
      "Epoch 40/100\n",
      "38/38 [==============================] - 5s 121ms/step - loss: 3.4337e-04 - val_loss: 2.4664e-04\n",
      "Epoch 41/100\n",
      "38/38 [==============================] - 4s 112ms/step - loss: 3.6927e-04 - val_loss: 2.3051e-04\n",
      "Epoch 42/100\n",
      "38/38 [==============================] - 4s 110ms/step - loss: 3.0865e-04 - val_loss: 2.6295e-04\n",
      "Epoch 43/100\n",
      "38/38 [==============================] - 4s 117ms/step - loss: 3.1251e-04 - val_loss: 2.3448e-04\n",
      "Epoch 44/100\n",
      "38/38 [==============================] - 5s 120ms/step - loss: 2.8679e-04 - val_loss: 2.0912e-04\n",
      "Epoch 45/100\n",
      "38/38 [==============================] - 5s 122ms/step - loss: 2.9497e-04 - val_loss: 3.0876e-04\n",
      "Epoch 46/100\n",
      "38/38 [==============================] - 4s 116ms/step - loss: 2.9038e-04 - val_loss: 1.9903e-04\n",
      "Epoch 47/100\n",
      "38/38 [==============================] - 5s 137ms/step - loss: 2.6177e-04 - val_loss: 1.9598e-04\n",
      "Epoch 48/100\n",
      "38/38 [==============================] - 5s 130ms/step - loss: 2.8698e-04 - val_loss: 2.2919e-04\n",
      "Epoch 49/100\n",
      "38/38 [==============================] - 5s 120ms/step - loss: 2.6877e-04 - val_loss: 1.8503e-04\n",
      "Epoch 50/100\n",
      "38/38 [==============================] - 5s 122ms/step - loss: 2.6338e-04 - val_loss: 2.8382e-04\n",
      "Epoch 51/100\n",
      "38/38 [==============================] - 4s 117ms/step - loss: 2.9221e-04 - val_loss: 1.7565e-04\n",
      "Epoch 52/100\n",
      "38/38 [==============================] - 5s 119ms/step - loss: 2.7647e-04 - val_loss: 2.5365e-04\n",
      "Epoch 53/100\n",
      "38/38 [==============================] - 4s 118ms/step - loss: 2.5134e-04 - val_loss: 1.8020e-04\n",
      "Epoch 54/100\n",
      "38/38 [==============================] - 4s 114ms/step - loss: 2.8473e-04 - val_loss: 1.8756e-04\n",
      "Epoch 55/100\n",
      "38/38 [==============================] - 4s 109ms/step - loss: 2.6957e-04 - val_loss: 1.7090e-04\n",
      "Epoch 56/100\n",
      "38/38 [==============================] - 4s 108ms/step - loss: 2.8247e-04 - val_loss: 1.7571e-04\n",
      "Epoch 57/100\n",
      "38/38 [==============================] - 4s 110ms/step - loss: 3.0229e-04 - val_loss: 2.2868e-04\n",
      "Epoch 58/100\n",
      "38/38 [==============================] - 4s 108ms/step - loss: 3.3950e-04 - val_loss: 1.6146e-04\n",
      "Epoch 59/100\n",
      "38/38 [==============================] - 4s 111ms/step - loss: 2.2094e-04 - val_loss: 1.5691e-04\n",
      "Epoch 60/100\n",
      "38/38 [==============================] - 4s 108ms/step - loss: 2.1139e-04 - val_loss: 1.7708e-04\n",
      "Epoch 61/100\n",
      "38/38 [==============================] - 4s 108ms/step - loss: 2.2712e-04 - val_loss: 1.6641e-04\n",
      "Epoch 62/100\n",
      "38/38 [==============================] - 4s 113ms/step - loss: 2.4056e-04 - val_loss: 1.8307e-04\n",
      "Epoch 63/100\n",
      "38/38 [==============================] - 4s 117ms/step - loss: 2.5923e-04 - val_loss: 2.1333e-04\n",
      "Epoch 64/100\n",
      "38/38 [==============================] - 4s 117ms/step - loss: 2.7751e-04 - val_loss: 1.4921e-04\n",
      "Epoch 65/100\n",
      "38/38 [==============================] - 5s 123ms/step - loss: 3.0626e-04 - val_loss: 1.7083e-04\n",
      "Epoch 66/100\n",
      "38/38 [==============================] - 4s 116ms/step - loss: 2.2182e-04 - val_loss: 2.5294e-04\n",
      "Epoch 67/100\n",
      "38/38 [==============================] - 4s 112ms/step - loss: 2.2498e-04 - val_loss: 1.5708e-04\n",
      "Epoch 68/100\n",
      "38/38 [==============================] - 4s 112ms/step - loss: 2.2392e-04 - val_loss: 1.5163e-04\n",
      "Epoch 69/100\n",
      "38/38 [==============================] - 4s 113ms/step - loss: 2.1180e-04 - val_loss: 1.4304e-04\n",
      "Epoch 70/100\n",
      "38/38 [==============================] - 4s 116ms/step - loss: 2.0468e-04 - val_loss: 1.8944e-04\n",
      "Epoch 71/100\n",
      "38/38 [==============================] - 4s 109ms/step - loss: 2.3208e-04 - val_loss: 1.4478e-04\n",
      "Epoch 72/100\n",
      "38/38 [==============================] - 4s 108ms/step - loss: 2.0999e-04 - val_loss: 1.9053e-04\n",
      "Epoch 73/100\n",
      "38/38 [==============================] - 5s 123ms/step - loss: 2.7194e-04 - val_loss: 1.8354e-04\n",
      "Epoch 74/100\n",
      "38/38 [==============================] - 4s 117ms/step - loss: 2.0512e-04 - val_loss: 1.4788e-04\n",
      "Epoch 75/100\n",
      "38/38 [==============================] - 5s 122ms/step - loss: 2.1373e-04 - val_loss: 1.5420e-04\n",
      "Epoch 76/100\n"
     ]
    },
    {
     "name": "stdout",
     "output_type": "stream",
     "text": [
      "38/38 [==============================] - 4s 113ms/step - loss: 2.2162e-04 - val_loss: 2.7347e-04\n",
      "Epoch 77/100\n",
      "38/38 [==============================] - 5s 126ms/step - loss: 2.9553e-04 - val_loss: 1.6603e-04\n",
      "Epoch 78/100\n",
      "38/38 [==============================] - 5s 123ms/step - loss: 2.5009e-04 - val_loss: 3.5072e-04\n",
      "Epoch 79/100\n",
      "38/38 [==============================] - 4s 111ms/step - loss: 2.3671e-04 - val_loss: 1.3792e-04\n",
      "Epoch 80/100\n",
      "38/38 [==============================] - 4s 112ms/step - loss: 2.0868e-04 - val_loss: 1.3585e-04\n",
      "Epoch 81/100\n",
      "38/38 [==============================] - 5s 123ms/step - loss: 2.1958e-04 - val_loss: 1.5409e-04\n",
      "Epoch 82/100\n",
      "38/38 [==============================] - 5s 121ms/step - loss: 2.6645e-04 - val_loss: 1.4380e-04\n",
      "Epoch 83/100\n",
      "38/38 [==============================] - 4s 111ms/step - loss: 2.0464e-04 - val_loss: 1.3536e-04\n",
      "Epoch 84/100\n",
      "38/38 [==============================] - 4s 115ms/step - loss: 2.1296e-04 - val_loss: 1.4160e-04\n",
      "Epoch 85/100\n",
      "38/38 [==============================] - 4s 111ms/step - loss: 2.4566e-04 - val_loss: 1.6368e-04\n",
      "Epoch 86/100\n",
      "38/38 [==============================] - 4s 115ms/step - loss: 2.8093e-04 - val_loss: 1.6107e-04\n",
      "Epoch 87/100\n",
      "38/38 [==============================] - 4s 116ms/step - loss: 2.2034e-04 - val_loss: 1.7807e-04\n",
      "Epoch 88/100\n",
      "38/38 [==============================] - 5s 130ms/step - loss: 2.2202e-04 - val_loss: 1.3820e-04\n",
      "Epoch 89/100\n",
      "38/38 [==============================] - 5s 125ms/step - loss: 2.4106e-04 - val_loss: 2.2646e-04\n",
      "Epoch 90/100\n",
      "38/38 [==============================] - 5s 121ms/step - loss: 3.5059e-04 - val_loss: 1.3761e-04\n",
      "Epoch 91/100\n",
      "38/38 [==============================] - 4s 118ms/step - loss: 1.9507e-04 - val_loss: 1.4273e-04\n",
      "Epoch 92/100\n",
      "38/38 [==============================] - 4s 114ms/step - loss: 2.3154e-04 - val_loss: 1.5602e-04\n",
      "Epoch 93/100\n",
      "38/38 [==============================] - 4s 115ms/step - loss: 2.7569e-04 - val_loss: 1.7403e-04\n",
      "Epoch 94/100\n",
      "38/38 [==============================] - 4s 115ms/step - loss: 2.2977e-04 - val_loss: 1.3399e-04\n",
      "Epoch 95/100\n",
      "38/38 [==============================] - 5s 132ms/step - loss: 2.3351e-04 - val_loss: 1.6048e-04\n",
      "Epoch 96/100\n",
      "38/38 [==============================] - 5s 135ms/step - loss: 2.2697e-04 - val_loss: 2.0143e-04\n",
      "Epoch 97/100\n",
      "38/38 [==============================] - 5s 134ms/step - loss: 2.2284e-04 - val_loss: 1.7126e-04\n",
      "Epoch 98/100\n",
      "38/38 [==============================] - 4s 110ms/step - loss: 2.0550e-04 - val_loss: 1.7417e-04\n",
      "Epoch 99/100\n",
      "38/38 [==============================] - 4s 110ms/step - loss: 2.1952e-04 - val_loss: 1.4357e-04\n",
      "Epoch 100/100\n",
      "38/38 [==============================] - 4s 113ms/step - loss: 2.0303e-04 - val_loss: 1.3261e-04\n"
     ]
    },
    {
     "data": {
      "text/plain": [
       "<keras.callbacks.History at 0x7f298de015e0>"
      ]
     },
     "execution_count": 28,
     "metadata": {},
     "output_type": "execute_result"
    }
   ],
   "source": [
    "model.fit(X_train,y_train,validation_split=0.1,epochs=100)"
   ]
  },
  {
   "cell_type": "markdown",
   "id": "02dcbf05",
   "metadata": {},
   "source": [
    "# Step8:- Prediction and Testing"
   ]
  },
  {
   "cell_type": "code",
   "execution_count": 30,
   "id": "c3953f83",
   "metadata": {},
   "outputs": [
    {
     "name": "stdout",
     "output_type": "stream",
     "text": [
      "42/42 [==============================] - 3s 39ms/step\n",
      "16/16 [==============================] - 1s 38ms/step\n"
     ]
    }
   ],
   "source": [
    "train_data_predict = model.predict(X_train)\n",
    "test_data_predict = model.predict(X_test)"
   ]
  },
  {
   "cell_type": "code",
   "execution_count": 31,
   "id": "93e1e34c",
   "metadata": {},
   "outputs": [],
   "source": [
    "#Transform back to original form\n",
    "train_data_predict=scaler.inverse_transform(train_data_predict)\n",
    "test_data_predict=scaler.inverse_transform(test_data_predict)"
   ]
  },
  {
   "cell_type": "code",
   "execution_count": 32,
   "id": "d42a3dcb",
   "metadata": {},
   "outputs": [
    {
     "data": {
      "text/plain": [
       "165.50057103343343"
      ]
     },
     "execution_count": 32,
     "metadata": {},
     "output_type": "execute_result"
    }
   ],
   "source": [
    "#Calculate RMSE on train data\n",
    "from sklearn.metrics import mean_squared_error\n",
    "np.sqrt(mean_squared_error(y_train,train_data_predict))"
   ]
  },
  {
   "cell_type": "code",
   "execution_count": 34,
   "id": "b91bdb09",
   "metadata": {},
   "outputs": [
    {
     "data": {
      "text/plain": [
       "107.20022617853576"
      ]
     },
     "execution_count": 34,
     "metadata": {},
     "output_type": "execute_result"
    }
   ],
   "source": [
    "#Calculate RMSE on test data\n",
    "np.sqrt(mean_squared_error(y_test,test_data_predict))"
   ]
  },
  {
   "cell_type": "markdown",
   "id": "d81378ca",
   "metadata": {},
   "source": [
    "# Step9:- Plotting the graph against actual data and prediction data"
   ]
  },
  {
   "cell_type": "code",
   "execution_count": 37,
   "id": "174e3b98",
   "metadata": {},
   "outputs": [
    {
     "data": {
      "image/png": "[encoded data removed]",
      "text/plain": [
       "<Figure size 432x288 with 1 Axes>"
      ]
     },
     "metadata": {
      "needs_background": "light"
     },
     "output_type": "display_data"
    }
   ],
   "source": [
    "# train predictions \n",
    "look_back=100\n",
    "trainPredictPlot = np.empty_like(df1)\n",
    "trainPredictPlot[:, :] = np.nan\n",
    "trainPredictPlot[look_back:len(train_data_predict)+look_back, :] = train_data_predict\n",
    "# test predictions\n",
    "testPredictPlot = np.empty_like(df1)\n",
    "testPredictPlot[:, :] = np.nan\n",
    "testPredictPlot[len(train_data_predict)+(look_back*2)+1:len(df1)-1, :] = test_data_predict\n",
    "# plot baseline and predictions\n",
    "plt.plot(scaler.inverse_transform(df1))\n",
    "plt.plot(trainPredictPlot)\n",
    "plt.plot(testPredictPlot)\n",
    "plt.show()"
   ]
  },
  {
   "cell_type": "markdown",
   "id": "8b0515d0",
   "metadata": {},
   "source": [
    "# Step10:- Prediction for the next 10 days"
   ]
  },
  {
   "cell_type": "code",
   "execution_count": 29,
   "id": "a4d65829",
   "metadata": {},
   "outputs": [
    {
     "data": {
      "text/plain": [
       "611"
      ]
     },
     "execution_count": 29,
     "metadata": {},
     "output_type": "execute_result"
    }
   ],
   "source": [
    "len(test_data)"
   ]
  },
  {
   "cell_type": "code",
   "execution_count": 38,
   "id": "33aef096",
   "metadata": {},
   "outputs": [
    {
     "data": {
      "text/plain": [
       "array([[0.12479575, 0.13848039, 0.14011438, 0.13888889, 0.13541667,\n",
       "        0.14011438, 0.1380719 , 0.13071895, 0.13071895, 0.12867647,\n",
       "        0.11846405, 0.14644608, 0.14808007, 0.15910948, 0.15992647,\n",
       "        0.15788399, 0.16441993, 0.17892157, 0.17933007, 0.19260621,\n",
       "        0.20812908, 0.18974673, 0.18055556, 0.18239379, 0.17708333,\n",
       "        0.17810458, 0.18055556, 0.17810458, 0.17851307, 0.19607843,\n",
       "        0.18913399, 0.18954248, 0.19403595, 0.19444444, 0.20200163,\n",
       "        0.19771242, 0.19934641, 0.19873366, 0.1997549 , 0.2128268 ,\n",
       "        0.21568627, 0.20445261, 0.21772876, 0.21098856, 0.21425654,\n",
       "        0.19750817, 0.18811275, 0.17851307, 0.17381536, 0.16033497,\n",
       "        0.16564542, 0.17116013, 0.17422386, 0.18035131, 0.17401961,\n",
       "        0.16278595, 0.16973039, 0.17810458, 0.17034314, 0.16830065,\n",
       "        0.17279412, 0.17544935, 0.18382353, 0.19138072, 0.18913399,\n",
       "        0.19097222, 0.17238562, 0.16830065, 0.1693219 , 0.17177288,\n",
       "        0.16156046, 0.14971405, 0.1503268 , 0.15196078, 0.14726307,\n",
       "        0.14501634, 0.14603758, 0.12479575, 0.13112745, 0.11397059,\n",
       "        0.1190768 , 0.12377451, 0.13562092, 0.12908497, 0.13459967,\n",
       "        0.12806373, 0.13031046, 0.12724673, 0.13521242, 0.14522059,\n",
       "        0.15257353, 0.14848856, 0.14338235, 0.14562908, 0.15236928,\n",
       "        0.15400327, 0.14971405, 0.1621732 , 0.16319444, 0.16584967]])"
      ]
     },
     "execution_count": 38,
     "metadata": {},
     "output_type": "execute_result"
    }
   ],
   "source": [
    "predict_input = test_data[511:].reshape(1,-1)\n",
    "predict_input"
   ]
  },
  {
   "cell_type": "code",
   "execution_count": 39,
   "id": "e0733287",
   "metadata": {},
   "outputs": [
    {
     "data": {
      "text/plain": [
       "(1, 100)"
      ]
     },
     "execution_count": 39,
     "metadata": {},
     "output_type": "execute_result"
    }
   ],
   "source": [
    "predict_input.shape"
   ]
  },
  {
   "cell_type": "code",
   "execution_count": 40,
   "id": "32ed1ba0",
   "metadata": {},
   "outputs": [],
   "source": [
    "temp_input = list(predict_input)\n",
    "temp_input = temp_input[0].tolist()"
   ]
  },
  {
   "cell_type": "code",
   "execution_count": 42,
   "id": "2d4e11c6",
   "metadata": {},
   "outputs": [
    {
     "data": {
      "text/plain": [
       "[0.12479575163398693,\n",
       " 0.1384803921568627,\n",
       " 0.14011437908496732,\n",
       " 0.1388888888888889,\n",
       " 0.13541666666666663,\n",
       " 0.14011437908496732,\n",
       " 0.13807189542483655,\n",
       " 0.130718954248366,\n",
       " 0.130718954248366,\n",
       " 0.12867647058823528,\n",
       " 0.11846405228758167,\n",
       " 0.14644607843137253,\n",
       " 0.1480800653594771,\n",
       " 0.159109477124183,\n",
       " 0.15992647058823523,\n",
       " 0.1578839869281045,\n",
       " 0.16441993464052285,\n",
       " 0.178921568627451,\n",
       " 0.17933006535947704,\n",
       " 0.19260620915032678,\n",
       " 0.2081290849673203,\n",
       " 0.18974673202614378,\n",
       " 0.18055555555555558,\n",
       " 0.1823937908496731,\n",
       " 0.17708333333333326,\n",
       " 0.17810457516339862,\n",
       " 0.18055555555555558,\n",
       " 0.17810457516339862,\n",
       " 0.17851307189542487,\n",
       " 0.196078431372549,\n",
       " 0.18913398692810457,\n",
       " 0.1895424836601307,\n",
       " 0.19403594771241828,\n",
       " 0.19444444444444442,\n",
       " 0.20200163398692816,\n",
       " 0.19771241830065356,\n",
       " 0.19934640522875813,\n",
       " 0.19873366013071891,\n",
       " 0.19975490196078427,\n",
       " 0.21282679738562094,\n",
       " 0.21568627450980393,\n",
       " 0.2044526143790849,\n",
       " 0.21772875816993464,\n",
       " 0.21098856209150318,\n",
       " 0.21425653594771243,\n",
       " 0.1975081699346406,\n",
       " 0.1881127450980392,\n",
       " 0.17851307189542487,\n",
       " 0.17381535947712412,\n",
       " 0.16033496732026142,\n",
       " 0.16564542483660127,\n",
       " 0.1711601307189542,\n",
       " 0.17422385620915026,\n",
       " 0.1803513071895424,\n",
       " 0.1740196078431372,\n",
       " 0.16278594771241828,\n",
       " 0.1697303921568627,\n",
       " 0.17810457516339862,\n",
       " 0.1703431372549019,\n",
       " 0.16830065359477125,\n",
       " 0.17279411764705876,\n",
       " 0.1754493464052288,\n",
       " 0.18382352941176472,\n",
       " 0.19138071895424835,\n",
       " 0.18913398692810457,\n",
       " 0.1909722222222222,\n",
       " 0.17238562091503273,\n",
       " 0.16830065359477125,\n",
       " 0.16932189542483655,\n",
       " 0.1717728758169934,\n",
       " 0.16156045751633985,\n",
       " 0.14971405228758167,\n",
       " 0.15032679738562088,\n",
       " 0.1519607843137255,\n",
       " 0.1472630718954248,\n",
       " 0.14501633986928103,\n",
       " 0.14603758169934639,\n",
       " 0.12479575163398693,\n",
       " 0.13112745098039214,\n",
       " 0.11397058823529405,\n",
       " 0.11907679738562088,\n",
       " 0.12377450980392157,\n",
       " 0.13562091503267976,\n",
       " 0.12908496732026142,\n",
       " 0.1345996732026144,\n",
       " 0.12806372549019607,\n",
       " 0.13031045751633985,\n",
       " 0.12724673202614373,\n",
       " 0.13521241830065356,\n",
       " 0.1452205882352941,\n",
       " 0.15257352941176466,\n",
       " 0.14848856209150324,\n",
       " 0.14338235294117646,\n",
       " 0.14562908496732024,\n",
       " 0.1523692810457516,\n",
       " 0.15400326797385622,\n",
       " 0.14971405228758167,\n",
       " 0.16217320261437906,\n",
       " 0.16319444444444448,\n",
       " 0.16584967320261434]"
      ]
     },
     "execution_count": 42,
     "metadata": {},
     "output_type": "execute_result"
    }
   ],
   "source": [
    "temp_input"
   ]
  },
  {
   "cell_type": "code",
   "execution_count": 46,
   "id": "cf2afd87",
   "metadata": {},
   "outputs": [
    {
     "name": "stdout",
     "output_type": "stream",
     "text": [
      "0 day input [0.13848039 0.14011438 0.13888889 0.13541667 0.14011438 0.1380719\n",
      " 0.13071895 0.13071895 0.12867647 0.11846405 0.14644608 0.14808007\n",
      " 0.15910948 0.15992647 0.15788399 0.16441993 0.17892157 0.17933007\n",
      " 0.19260621 0.20812908 0.18974673 0.18055556 0.18239379 0.17708333\n",
      " 0.17810458 0.18055556 0.17810458 0.17851307 0.19607843 0.18913399\n",
      " 0.18954248 0.19403595 0.19444444 0.20200163 0.19771242 0.19934641\n",
      " 0.19873366 0.1997549  0.2128268  0.21568627 0.20445261 0.21772876\n",
      " 0.21098856 0.21425654 0.19750817 0.18811275 0.17851307 0.17381536\n",
      " 0.16033497 0.16564542 0.17116013 0.17422386 0.18035131 0.17401961\n",
      " 0.16278595 0.16973039 0.17810458 0.17034314 0.16830065 0.17279412\n",
      " 0.17544935 0.18382353 0.19138072 0.18913399 0.19097222 0.17238562\n",
      " 0.16830065 0.1693219  0.17177288 0.16156046 0.14971405 0.1503268\n",
      " 0.15196078 0.14726307 0.14501634 0.14603758 0.12479575 0.13112745\n",
      " 0.11397059 0.1190768  0.12377451 0.13562092 0.12908497 0.13459967\n",
      " 0.12806373 0.13031046 0.12724673 0.13521242 0.14522059 0.15257353\n",
      " 0.14848856 0.14338235 0.14562908 0.15236928 0.15400327 0.14971405\n",
      " 0.1621732  0.16319444 0.16584967 0.16717701]\n",
      "0 day output [[0.16883166]]\n",
      "1 day input [0.14011438 0.13888889 0.13541667 0.14011438 0.1380719  0.13071895\n",
      " 0.13071895 0.12867647 0.11846405 0.14644608 0.14808007 0.15910948\n",
      " 0.15992647 0.15788399 0.16441993 0.17892157 0.17933007 0.19260621\n",
      " 0.20812908 0.18974673 0.18055556 0.18239379 0.17708333 0.17810458\n",
      " 0.18055556 0.17810458 0.17851307 0.19607843 0.18913399 0.18954248\n",
      " 0.19403595 0.19444444 0.20200163 0.19771242 0.19934641 0.19873366\n",
      " 0.1997549  0.2128268  0.21568627 0.20445261 0.21772876 0.21098856\n",
      " 0.21425654 0.19750817 0.18811275 0.17851307 0.17381536 0.16033497\n",
      " 0.16564542 0.17116013 0.17422386 0.18035131 0.17401961 0.16278595\n",
      " 0.16973039 0.17810458 0.17034314 0.16830065 0.17279412 0.17544935\n",
      " 0.18382353 0.19138072 0.18913399 0.19097222 0.17238562 0.16830065\n",
      " 0.1693219  0.17177288 0.16156046 0.14971405 0.1503268  0.15196078\n",
      " 0.14726307 0.14501634 0.14603758 0.12479575 0.13112745 0.11397059\n",
      " 0.1190768  0.12377451 0.13562092 0.12908497 0.13459967 0.12806373\n",
      " 0.13031046 0.12724673 0.13521242 0.14522059 0.15257353 0.14848856\n",
      " 0.14338235 0.14562908 0.15236928 0.15400327 0.14971405 0.1621732\n",
      " 0.16319444 0.16584967 0.16717701 0.16883166]\n",
      "1 day output [[0.1700981]]\n",
      "2 day input [0.13888889 0.13541667 0.14011438 0.1380719  0.13071895 0.13071895\n",
      " 0.12867647 0.11846405 0.14644608 0.14808007 0.15910948 0.15992647\n",
      " 0.15788399 0.16441993 0.17892157 0.17933007 0.19260621 0.20812908\n",
      " 0.18974673 0.18055556 0.18239379 0.17708333 0.17810458 0.18055556\n",
      " 0.17810458 0.17851307 0.19607843 0.18913399 0.18954248 0.19403595\n",
      " 0.19444444 0.20200163 0.19771242 0.19934641 0.19873366 0.1997549\n",
      " 0.2128268  0.21568627 0.20445261 0.21772876 0.21098856 0.21425654\n",
      " 0.19750817 0.18811275 0.17851307 0.17381536 0.16033497 0.16564542\n",
      " 0.17116013 0.17422386 0.18035131 0.17401961 0.16278595 0.16973039\n",
      " 0.17810458 0.17034314 0.16830065 0.17279412 0.17544935 0.18382353\n",
      " 0.19138072 0.18913399 0.19097222 0.17238562 0.16830065 0.1693219\n",
      " 0.17177288 0.16156046 0.14971405 0.1503268  0.15196078 0.14726307\n",
      " 0.14501634 0.14603758 0.12479575 0.13112745 0.11397059 0.1190768\n",
      " 0.12377451 0.13562092 0.12908497 0.13459967 0.12806373 0.13031046\n",
      " 0.12724673 0.13521242 0.14522059 0.15257353 0.14848856 0.14338235\n",
      " 0.14562908 0.15236928 0.15400327 0.14971405 0.1621732  0.16319444\n",
      " 0.16584967 0.16717701 0.16883166 0.1700981 ]\n",
      "2 day output [[0.17118081]]\n",
      "3 day input [0.13541667 0.14011438 0.1380719  0.13071895 0.13071895 0.12867647\n",
      " 0.11846405 0.14644608 0.14808007 0.15910948 0.15992647 0.15788399\n",
      " 0.16441993 0.17892157 0.17933007 0.19260621 0.20812908 0.18974673\n",
      " 0.18055556 0.18239379 0.17708333 0.17810458 0.18055556 0.17810458\n",
      " 0.17851307 0.19607843 0.18913399 0.18954248 0.19403595 0.19444444\n",
      " 0.20200163 0.19771242 0.19934641 0.19873366 0.1997549  0.2128268\n",
      " 0.21568627 0.20445261 0.21772876 0.21098856 0.21425654 0.19750817\n",
      " 0.18811275 0.17851307 0.17381536 0.16033497 0.16564542 0.17116013\n",
      " 0.17422386 0.18035131 0.17401961 0.16278595 0.16973039 0.17810458\n",
      " 0.17034314 0.16830065 0.17279412 0.17544935 0.18382353 0.19138072\n",
      " 0.18913399 0.19097222 0.17238562 0.16830065 0.1693219  0.17177288\n",
      " 0.16156046 0.14971405 0.1503268  0.15196078 0.14726307 0.14501634\n",
      " 0.14603758 0.12479575 0.13112745 0.11397059 0.1190768  0.12377451\n",
      " 0.13562092 0.12908497 0.13459967 0.12806373 0.13031046 0.12724673\n",
      " 0.13521242 0.14522059 0.15257353 0.14848856 0.14338235 0.14562908\n",
      " 0.15236928 0.15400327 0.14971405 0.1621732  0.16319444 0.16584967\n",
      " 0.16717701 0.16883166 0.1700981  0.17118081]\n",
      "3 day output [[0.17216723]]\n",
      "4 day input [0.14011438 0.1380719  0.13071895 0.13071895 0.12867647 0.11846405\n",
      " 0.14644608 0.14808007 0.15910948 0.15992647 0.15788399 0.16441993\n",
      " 0.17892157 0.17933007 0.19260621 0.20812908 0.18974673 0.18055556\n",
      " 0.18239379 0.17708333 0.17810458 0.18055556 0.17810458 0.17851307\n",
      " 0.19607843 0.18913399 0.18954248 0.19403595 0.19444444 0.20200163\n",
      " 0.19771242 0.19934641 0.19873366 0.1997549  0.2128268  0.21568627\n",
      " 0.20445261 0.21772876 0.21098856 0.21425654 0.19750817 0.18811275\n",
      " 0.17851307 0.17381536 0.16033497 0.16564542 0.17116013 0.17422386\n",
      " 0.18035131 0.17401961 0.16278595 0.16973039 0.17810458 0.17034314\n",
      " 0.16830065 0.17279412 0.17544935 0.18382353 0.19138072 0.18913399\n",
      " 0.19097222 0.17238562 0.16830065 0.1693219  0.17177288 0.16156046\n",
      " 0.14971405 0.1503268  0.15196078 0.14726307 0.14501634 0.14603758\n",
      " 0.12479575 0.13112745 0.11397059 0.1190768  0.12377451 0.13562092\n",
      " 0.12908497 0.13459967 0.12806373 0.13031046 0.12724673 0.13521242\n",
      " 0.14522059 0.15257353 0.14848856 0.14338235 0.14562908 0.15236928\n",
      " 0.15400327 0.14971405 0.1621732  0.16319444 0.16584967 0.16717701\n",
      " 0.16883166 0.1700981  0.17118081 0.17216723]\n",
      "4 day output [[0.17310867]]\n",
      "5 day input [0.1380719  0.13071895 0.13071895 0.12867647 0.11846405 0.14644608\n",
      " 0.14808007 0.15910948 0.15992647 0.15788399 0.16441993 0.17892157\n",
      " 0.17933007 0.19260621 0.20812908 0.18974673 0.18055556 0.18239379\n",
      " 0.17708333 0.17810458 0.18055556 0.17810458 0.17851307 0.19607843\n",
      " 0.18913399 0.18954248 0.19403595 0.19444444 0.20200163 0.19771242\n",
      " 0.19934641 0.19873366 0.1997549  0.2128268  0.21568627 0.20445261\n",
      " 0.21772876 0.21098856 0.21425654 0.19750817 0.18811275 0.17851307\n",
      " 0.17381536 0.16033497 0.16564542 0.17116013 0.17422386 0.18035131\n",
      " 0.17401961 0.16278595 0.16973039 0.17810458 0.17034314 0.16830065\n",
      " 0.17279412 0.17544935 0.18382353 0.19138072 0.18913399 0.19097222\n",
      " 0.17238562 0.16830065 0.1693219  0.17177288 0.16156046 0.14971405\n",
      " 0.1503268  0.15196078 0.14726307 0.14501634 0.14603758 0.12479575\n",
      " 0.13112745 0.11397059 0.1190768  0.12377451 0.13562092 0.12908497\n",
      " 0.13459967 0.12806373 0.13031046 0.12724673 0.13521242 0.14522059\n",
      " 0.15257353 0.14848856 0.14338235 0.14562908 0.15236928 0.15400327\n",
      " 0.14971405 0.1621732  0.16319444 0.16584967 0.16717701 0.16883166\n",
      " 0.1700981  0.17118081 0.17216723 0.17310867]\n",
      "5 day output [[0.17403194]]\n",
      "6 day input [0.13071895 0.13071895 0.12867647 0.11846405 0.14644608 0.14808007\n",
      " 0.15910948 0.15992647 0.15788399 0.16441993 0.17892157 0.17933007\n",
      " 0.19260621 0.20812908 0.18974673 0.18055556 0.18239379 0.17708333\n",
      " 0.17810458 0.18055556 0.17810458 0.17851307 0.19607843 0.18913399\n",
      " 0.18954248 0.19403595 0.19444444 0.20200163 0.19771242 0.19934641\n",
      " 0.19873366 0.1997549  0.2128268  0.21568627 0.20445261 0.21772876\n",
      " 0.21098856 0.21425654 0.19750817 0.18811275 0.17851307 0.17381536\n",
      " 0.16033497 0.16564542 0.17116013 0.17422386 0.18035131 0.17401961\n",
      " 0.16278595 0.16973039 0.17810458 0.17034314 0.16830065 0.17279412\n",
      " 0.17544935 0.18382353 0.19138072 0.18913399 0.19097222 0.17238562\n",
      " 0.16830065 0.1693219  0.17177288 0.16156046 0.14971405 0.1503268\n",
      " 0.15196078 0.14726307 0.14501634 0.14603758 0.12479575 0.13112745\n",
      " 0.11397059 0.1190768  0.12377451 0.13562092 0.12908497 0.13459967\n",
      " 0.12806373 0.13031046 0.12724673 0.13521242 0.14522059 0.15257353\n",
      " 0.14848856 0.14338235 0.14562908 0.15236928 0.15400327 0.14971405\n",
      " 0.1621732  0.16319444 0.16584967 0.16717701 0.16883166 0.1700981\n",
      " 0.17118081 0.17216723 0.17310867 0.17403194]\n",
      "6 day output [[0.17494729]]\n",
      "7 day input [0.13071895 0.12867647 0.11846405 0.14644608 0.14808007 0.15910948\n",
      " 0.15992647 0.15788399 0.16441993 0.17892157 0.17933007 0.19260621\n",
      " 0.20812908 0.18974673 0.18055556 0.18239379 0.17708333 0.17810458\n",
      " 0.18055556 0.17810458 0.17851307 0.19607843 0.18913399 0.18954248\n",
      " 0.19403595 0.19444444 0.20200163 0.19771242 0.19934641 0.19873366\n",
      " 0.1997549  0.2128268  0.21568627 0.20445261 0.21772876 0.21098856\n",
      " 0.21425654 0.19750817 0.18811275 0.17851307 0.17381536 0.16033497\n",
      " 0.16564542 0.17116013 0.17422386 0.18035131 0.17401961 0.16278595\n",
      " 0.16973039 0.17810458 0.17034314 0.16830065 0.17279412 0.17544935\n",
      " 0.18382353 0.19138072 0.18913399 0.19097222 0.17238562 0.16830065\n",
      " 0.1693219  0.17177288 0.16156046 0.14971405 0.1503268  0.15196078\n",
      " 0.14726307 0.14501634 0.14603758 0.12479575 0.13112745 0.11397059\n",
      " 0.1190768  0.12377451 0.13562092 0.12908497 0.13459967 0.12806373\n",
      " 0.13031046 0.12724673 0.13521242 0.14522059 0.15257353 0.14848856\n",
      " 0.14338235 0.14562908 0.15236928 0.15400327 0.14971405 0.1621732\n",
      " 0.16319444 0.16584967 0.16717701 0.16883166 0.1700981  0.17118081\n",
      " 0.17216723 0.17310867 0.17403194 0.17494729]\n",
      "7 day output [[0.17585556]]\n",
      "8 day input [0.12867647 0.11846405 0.14644608 0.14808007 0.15910948 0.15992647\n",
      " 0.15788399 0.16441993 0.17892157 0.17933007 0.19260621 0.20812908\n",
      " 0.18974673 0.18055556 0.18239379 0.17708333 0.17810458 0.18055556\n",
      " 0.17810458 0.17851307 0.19607843 0.18913399 0.18954248 0.19403595\n",
      " 0.19444444 0.20200163 0.19771242 0.19934641 0.19873366 0.1997549\n",
      " 0.2128268  0.21568627 0.20445261 0.21772876 0.21098856 0.21425654\n",
      " 0.19750817 0.18811275 0.17851307 0.17381536 0.16033497 0.16564542\n",
      " 0.17116013 0.17422386 0.18035131 0.17401961 0.16278595 0.16973039\n",
      " 0.17810458 0.17034314 0.16830065 0.17279412 0.17544935 0.18382353\n",
      " 0.19138072 0.18913399 0.19097222 0.17238562 0.16830065 0.1693219\n",
      " 0.17177288 0.16156046 0.14971405 0.1503268  0.15196078 0.14726307\n",
      " 0.14501634 0.14603758 0.12479575 0.13112745 0.11397059 0.1190768\n",
      " 0.12377451 0.13562092 0.12908497 0.13459967 0.12806373 0.13031046\n",
      " 0.12724673 0.13521242 0.14522059 0.15257353 0.14848856 0.14338235\n",
      " 0.14562908 0.15236928 0.15400327 0.14971405 0.1621732  0.16319444\n",
      " 0.16584967 0.16717701 0.16883166 0.1700981  0.17118081 0.17216723\n",
      " 0.17310867 0.17403194 0.17494729 0.17585556]\n",
      "8 day output [[0.1767537]]\n",
      "9 day input [0.11846405 0.14644608 0.14808007 0.15910948 0.15992647 0.15788399\n",
      " 0.16441993 0.17892157 0.17933007 0.19260621 0.20812908 0.18974673\n",
      " 0.18055556 0.18239379 0.17708333 0.17810458 0.18055556 0.17810458\n",
      " 0.17851307 0.19607843 0.18913399 0.18954248 0.19403595 0.19444444\n",
      " 0.20200163 0.19771242 0.19934641 0.19873366 0.1997549  0.2128268\n",
      " 0.21568627 0.20445261 0.21772876 0.21098856 0.21425654 0.19750817\n",
      " 0.18811275 0.17851307 0.17381536 0.16033497 0.16564542 0.17116013\n",
      " 0.17422386 0.18035131 0.17401961 0.16278595 0.16973039 0.17810458\n",
      " 0.17034314 0.16830065 0.17279412 0.17544935 0.18382353 0.19138072\n",
      " 0.18913399 0.19097222 0.17238562 0.16830065 0.1693219  0.17177288\n",
      " 0.16156046 0.14971405 0.1503268  0.15196078 0.14726307 0.14501634\n",
      " 0.14603758 0.12479575 0.13112745 0.11397059 0.1190768  0.12377451\n",
      " 0.13562092 0.12908497 0.13459967 0.12806373 0.13031046 0.12724673\n",
      " 0.13521242 0.14522059 0.15257353 0.14848856 0.14338235 0.14562908\n",
      " 0.15236928 0.15400327 0.14971405 0.1621732  0.16319444 0.16584967\n",
      " 0.16717701 0.16883166 0.1700981  0.17118081 0.17216723 0.17310867\n",
      " 0.17403194 0.17494729 0.17585556 0.1767537 ]\n",
      "9 day output [[0.17763804]]\n",
      "[[0.16883166134357452], [0.17009809613227844], [0.1711808145046234], [0.17216722667217255], [0.17310866713523865], [0.17403194308280945], [0.17494729161262512], [0.17585556209087372], [0.1767536997795105], [0.17763803899288177]]\n"
     ]
    }
   ],
   "source": [
    "from numpy import array\n",
    "\n",
    "lst_output=[]\n",
    "n_steps=100\n",
    "i=0\n",
    "while(i<10):\n",
    "    \n",
    "    if(len(temp_input)>100):\n",
    "        #print(temp_input)\n",
    "        predict_input=np.array(temp_input[1:])\n",
    "        print(\"{} day input {}\".format(i,predict_input))\n",
    "        predict_input=predict_input.reshape(1,-1)\n",
    "        predict_input = predict_input.reshape((1, n_steps, 1))\n",
    "        #print(x_input)\n",
    "        yhat = model.predict(predict_input, verbose=0)\n",
    "        print(\"{} day output {}\".format(i,yhat))\n",
    "        temp_input.extend(yhat[0].tolist())\n",
    "        temp_input=temp_input[1:]\n",
    "        #print(temp_input)\n",
    "        lst_output.extend(yhat.tolist())\n",
    "        i=i+1\n",
    "    else:\n",
    "        predict_input = predict_input.reshape((1, n_steps,1))\n",
    "        yhat = model.predict(predict_input, verbose=0)\n",
    "        print(yhat[0])\n",
    "        temp_input.extend(yhat[0].tolist())\n",
    "        print(len(temp_input))\n",
    "        lst_output.extend(yhat.tolist())\n",
    "        i=i+1\n",
    "    \n",
    "\n",
    "print(lst_output)"
   ]
  },
  {
   "cell_type": "code",
   "execution_count": 48,
   "id": "6b7c5755",
   "metadata": {},
   "outputs": [],
   "source": [
    "#Plotting last 110 days Closing Price\n",
    "day_new = np.arange(1,101)\n",
    "day_pred = np.arange(101,111)"
   ]
  },
  {
   "cell_type": "code",
   "execution_count": 49,
   "id": "53086c18",
   "metadata": {},
   "outputs": [
    {
     "data": {
      "text/plain": [
       "2035"
      ]
     },
     "execution_count": 49,
     "metadata": {},
     "output_type": "execute_result"
    }
   ],
   "source": [
    "len(df1)"
   ]
  },
  {
   "cell_type": "code",
   "execution_count": 51,
   "id": "187bee8f",
   "metadata": {},
   "outputs": [
    {
     "data": {
      "image/png": "[encoded data removed]",
      "text/plain": [
       "<Figure size 432x288 with 1 Axes>"
      ]
     },
     "metadata": {
      "needs_background": "light"
     },
     "output_type": "display_data"
    }
   ],
   "source": [
    "plt.plot(day_new,scaler.inverse_transform(df1[1935:]))\n",
    "plt.plot(day_pred,scaler.inverse_transform(lst_output))\n",
    "plt.show()"
   ]
  },
  {
   "cell_type": "code",
   "execution_count": 52,
   "id": "fe99d733",
   "metadata": {},
   "outputs": [],
   "source": [
    "#Make a continoue graph\n",
    "df2=df1.tolist()\n",
    "df2.extend(lst_output)"
   ]
  },
  {
   "cell_type": "code",
   "execution_count": 53,
   "id": "809a5239",
   "metadata": {},
   "outputs": [
    {
     "data": {
      "text/plain": [
       "2045"
      ]
     },
     "execution_count": 53,
     "metadata": {},
     "output_type": "execute_result"
    }
   ],
   "source": [
    "len(df2)"
   ]
  },
  {
   "cell_type": "code",
   "execution_count": 55,
   "id": "836c385b",
   "metadata": {},
   "outputs": [
    {
     "data": {
      "image/png": "[encoded data removed]",
      "text/plain": [
       "<Figure size 432x288 with 1 Axes>"
      ]
     },
     "metadata": {
      "needs_background": "light"
     },
     "output_type": "display_data"
    }
   ],
   "source": [
    "plt.plot(df2[1935:])\n",
    "plt.show()"
   ]
  },
  {
   "cell_type": "code",
   "execution_count": 56,
   "id": "1a4a9b96",
   "metadata": {},
   "outputs": [
    {
     "data": {
      "image/png": "[encoded data removed]",
      "text/plain": [
       "<Figure size 432x288 with 1 Axes>"
      ]
     },
     "metadata": {
      "needs_background": "light"
     },
     "output_type": "display_data"
    }
   ],
   "source": [
    "#Plotting the graph with predicted 10 days output\n",
    "df2=scaler.inverse_transform(df2).tolist()\n",
    "plt.plot(df2)\n",
    "plt.show()"
   ]
  },
  {
   "cell_type": "code",
   "execution_count": null,
   "id": "90f3254d",
   "metadata": {},
   "outputs": [],
   "source": []
  }
 ],
 "metadata": {
  "kernelspec": {
   "display_name": "Python 3 (ipykernel)",
   "language": "python",
   "name": "python3"
  },
  "language_info": {
   "codemirror_mode": {
    "name": "ipython",
    "version": 3
   },
   "file_extension": ".py",
   "mimetype": "text/x-python",
   "name": "python",
   "nbconvert_exporter": "python",
   "pygments_lexer": "ipython3",
   "version": "3.8.10"
  }
 },
 "nbformat": 4,
 "nbformat_minor": 5
}
